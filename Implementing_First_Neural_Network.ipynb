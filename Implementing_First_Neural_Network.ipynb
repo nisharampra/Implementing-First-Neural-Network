{
  "nbformat": 4,
  "nbformat_minor": 0,
  "metadata": {
    "colab": {
      "provenance": [],
      "authorship_tag": "ABX9TyO4ZhNQiKWS6lrCO8Gszmwq",
      "include_colab_link": true
    },
    "kernelspec": {
      "name": "python3",
      "display_name": "Python 3"
    },
    "language_info": {
      "name": "python"
    }
  },
  "cells": [
    {
      "cell_type": "markdown",
      "metadata": {
        "id": "view-in-github",
        "colab_type": "text"
      },
      "source": [
        "<a href=\"https://colab.research.google.com/github/nisharampra/Implementing-First-Neural-Network/blob/main/Implementing_First_Neural_Network.ipynb\" target=\"_parent\"><img src=\"https://colab.research.google.com/assets/colab-badge.svg\" alt=\"Open In Colab\"/></a>"
      ]
    },
    {
      "cell_type": "code",
      "execution_count": 1,
      "metadata": {
        "id": "f2_jpqcf4_pY"
      },
      "outputs": [],
      "source": [
        "import torch\n",
        "import torch.nn as nn"
      ]
    },
    {
      "cell_type": "code",
      "source": [
        "# Defining input size, hidden layer size, output size and batch size respectively\n",
        "n_in, n_h, n_out, batch_size = 10, 5, 1, 10"
      ],
      "metadata": {
        "id": "lDhQrouN5Chn"
      },
      "execution_count": 2,
      "outputs": []
    },
    {
      "cell_type": "code",
      "source": [
        "# Create dummy input and target tensors (data)\n",
        "x = torch.randn(batch_size, n_in)\n",
        "y = torch.tensor([[1.0], [0.0], [0.0],\n",
        "[1.0], [1.0], [1.0], [0.0], [0.0], [1.0], [1.0]])"
      ],
      "metadata": {
        "id": "6U_fqxHT5Eeo"
      },
      "execution_count": 3,
      "outputs": []
    },
    {
      "cell_type": "code",
      "source": [
        "# Create a model\n",
        "model = nn.Sequential(nn.Linear(n_in, n_h),\n",
        "   nn.ReLU(),\n",
        "   nn.Linear(n_h, n_out),\n",
        "   nn.Sigmoid())"
      ],
      "metadata": {
        "id": "MN5CRUrj5Hp1"
      },
      "execution_count": 4,
      "outputs": []
    },
    {
      "cell_type": "code",
      "source": [
        "criterion = torch.nn.MSELoss()\n",
        "# Construct the optimizer (Stochastic Gradient Descent in this case)\n",
        "optimizer = torch.optim.SGD(model.parameters(), lr = 0.01)\n"
      ],
      "metadata": {
        "id": "EUq_ng2Z5HsF"
      },
      "execution_count": 6,
      "outputs": []
    },
    {
      "cell_type": "code",
      "source": [
        "# Gradient Descent\n",
        "for epoch in range(50):\n",
        "   # Forward pass: Compute predicted y by passing x to the model\n",
        "   y_pred = model(x)\n",
        "\n",
        "   # Compute and print loss\n",
        "   loss = criterion(y_pred, y)\n",
        "   print('epoch: ', epoch,' loss: ', loss.item())\n",
        "\n",
        "   # Zero gradients, perform a backward pass, and update the weights.\n",
        "   optimizer.zero_grad()\n",
        "\n",
        "   # perform a backward pass (backpropagation)\n",
        "   loss.backward()\n",
        "\n",
        "   # Update the parameters\n",
        "   optimizer.step()"
      ],
      "metadata": {
        "colab": {
          "base_uri": "https://localhost:8080/"
        },
        "id": "Y5NoYBiC5QQE",
        "outputId": "d7bd2f09-4c94-40d0-9b3c-1b67b9089445"
      },
      "execution_count": 7,
      "outputs": [
        {
          "output_type": "stream",
          "name": "stdout",
          "text": [
            "epoch:  0  loss:  0.23226463794708252\n",
            "epoch:  1  loss:  0.2321867197751999\n",
            "epoch:  2  loss:  0.2321086823940277\n",
            "epoch:  3  loss:  0.23203051090240479\n",
            "epoch:  4  loss:  0.2319522351026535\n",
            "epoch:  5  loss:  0.23187384009361267\n",
            "epoch:  6  loss:  0.23179534077644348\n",
            "epoch:  7  loss:  0.23171670734882355\n",
            "epoch:  8  loss:  0.23163792490959167\n",
            "epoch:  9  loss:  0.23155906796455383\n",
            "epoch:  10  loss:  0.23148003220558167\n",
            "epoch:  11  loss:  0.23140089213848114\n",
            "epoch:  12  loss:  0.23132161796092987\n",
            "epoch:  13  loss:  0.23124220967292786\n",
            "epoch:  14  loss:  0.2311626672744751\n",
            "epoch:  15  loss:  0.2310829609632492\n",
            "epoch:  16  loss:  0.23100316524505615\n",
            "epoch:  17  loss:  0.23092320561408997\n",
            "epoch:  18  loss:  0.23084314167499542\n",
            "epoch:  19  loss:  0.23076286911964417\n",
            "epoch:  20  loss:  0.23068253695964813\n",
            "epoch:  21  loss:  0.23060199618339539\n",
            "epoch:  22  loss:  0.23052139580249786\n",
            "epoch:  23  loss:  0.23044106364250183\n",
            "epoch:  24  loss:  0.23036065697669983\n",
            "epoch:  25  loss:  0.2302800714969635\n",
            "epoch:  26  loss:  0.23019930720329285\n",
            "epoch:  27  loss:  0.23011839389801025\n",
            "epoch:  28  loss:  0.2300373613834381\n",
            "epoch:  29  loss:  0.22995615005493164\n",
            "epoch:  30  loss:  0.22987477481365204\n",
            "epoch:  31  loss:  0.2297932654619217\n",
            "epoch:  32  loss:  0.22971157729625702\n",
            "epoch:  33  loss:  0.2296297252178192\n",
            "epoch:  34  loss:  0.22954773902893066\n",
            "epoch:  35  loss:  0.2294655591249466\n",
            "epoch:  36  loss:  0.22938323020935059\n",
            "epoch:  37  loss:  0.22930070757865906\n",
            "epoch:  38  loss:  0.2292180359363556\n",
            "epoch:  39  loss:  0.229135200381279\n",
            "epoch:  40  loss:  0.22905218601226807\n",
            "epoch:  41  loss:  0.228969007730484\n",
            "epoch:  42  loss:  0.22888562083244324\n",
            "epoch:  43  loss:  0.22880211472511292\n",
            "epoch:  44  loss:  0.2287183701992035\n",
            "epoch:  45  loss:  0.22863447666168213\n",
            "epoch:  46  loss:  0.22855038940906525\n",
            "epoch:  47  loss:  0.22846612334251404\n",
            "epoch:  48  loss:  0.2283816635608673\n",
            "epoch:  49  loss:  0.22829703986644745\n"
          ]
        }
      ]
    },
    {
      "cell_type": "code",
      "source": [],
      "metadata": {
        "id": "roQgbebc5SQt"
      },
      "execution_count": null,
      "outputs": []
    }
  ]
}